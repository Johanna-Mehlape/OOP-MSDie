{
 "cells": [
  {
   "cell_type": "code",
   "execution_count": 2,
   "metadata": {},
   "outputs": [],
   "source": [
    "import tkinter\n",
    "from graphics import *\n",
    "\n",
    "class Button:\n",
    "    \"\"\" A button is a labeled rectangle in a window. It is activated or deactivated\n",
    "    with the activate() and deactivate() methods. The clicked (p) method returns\n",
    "    true if the button is active and p is inside it. \"\"\"\n",
    "\n",
    "def __init__ (self, win, center, width, height, label):\n",
    "        \"\"\"creates a rectangualr button, eg:\n",
    "        qp = Button (myWin, centerPoint, width, height, 'quit')\"\"\"\n",
    "#set attributes here\n",
    "    \n",
    "        self.label = Text(label)\n",
    "        self.label.draw(win)\n",
    "        width = width/2.0\n",
    "        height = height/2.0\n",
    "        center.getX = x\n",
    "        center.getY = y\n",
    "        self.xmax, self.xmin = x+w, x-w\n",
    "        self.ymax, self.tmin = y+h, y-h\n",
    "        p1 = Point(x-w, y-h)\n",
    "        p2 = Point(x+w, y+h)\n",
    "        self.square = Square(p1, p2)\n",
    "        self.square.setFill('blue')\n",
    "        self.square.draw(win)\n",
    "        self.deactivate()\n",
    "\n",
    "def clicked(self, p):\n",
    "    \"\"\"returns true if the button active and p is inside\"\"\"\n",
    "\n",
    "#CODE\n",
    "    return self.active\n",
    "           \n",
    "\n",
    "def getLabel(self):\n",
    "    \"\"\"returns the label string of the button\"\"\"\n",
    "\n",
    "#CODE\n",
    "    return self.label.getText()\n",
    "\n",
    "def activate(self):\n",
    "    \"\"\"Sets this button to 'active'\"\"\"\n",
    "\n",
    "#CODE\n",
    "    self.active = True\n",
    "    self.label.setFill('green')\n",
    "    self.square.setWidth(2)\n",
    "\n",
    "def deactivate (self):\n",
    "    \"\"\"Sets this button to 'active'\"\"\"\n",
    "    \n",
    "    #CODE\n",
    "    self.active = False\n",
    "    self.label.setFill('red')\n",
    "    self.square.setWidth(1)"
   ]
  },
  {
   "cell_type": "code",
   "execution_count": null,
   "metadata": {},
   "outputs": [],
   "source": []
  },
  {
   "cell_type": "code",
   "execution_count": null,
   "metadata": {},
   "outputs": [],
   "source": []
  }
 ],
 "metadata": {
  "kernelspec": {
   "display_name": "Python 3",
   "language": "python",
   "name": "python3"
  },
  "language_info": {
   "codemirror_mode": {
    "name": "ipython",
    "version": 3
   },
   "file_extension": ".py",
   "mimetype": "text/x-python",
   "name": "python",
   "nbconvert_exporter": "python",
   "pygments_lexer": "ipython3",
   "version": "3.6.5"
  }
 },
 "nbformat": 4,
 "nbformat_minor": 2
}
