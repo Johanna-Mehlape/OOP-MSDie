{
 "cells": [
  {
   "cell_type": "markdown",
   "metadata": {},
   "source": [
    "# MSDie Assignment 1\n",
    "#### Rolling multi-sided dice"
   ]
  },
  {
   "cell_type": "code",
   "execution_count": 1,
   "metadata": {},
   "outputs": [
    {
     "name": "stdout",
     "output_type": "stream",
     "text": [
      "1\n"
     ]
    }
   ],
   "source": [
    "import random\n",
    "class MSDie(object):\n",
    "    \n",
    "    \n",
    "    #construct here\n",
    "    #define classmethod 'roll' to roll the MSdie\n",
    "    #I used 'dieroll' to roll the die\n",
    "    def __init__(self):\n",
    "        self.dieside = 6\n",
    "        self.dieroll()\n",
    "    \n",
    "    \n",
    "    def dieroll(self):\n",
    "        self.value= 1 + random.randrange(self.dieside)\n",
    "        return self.value\n",
    "    \n",
    "    #define classmethod 'getValue' to return the current value of the MSdie\n",
    "    def getValue( self ):\n",
    "        return self.value\n",
    "    \n",
    "\n",
    "#define classmethod 'setValue' to set the die to a particular value\n",
    "def main():\n",
    "    #d1, d2 = d2, d1\n",
    "    d1 = MSDie()\n",
    "    #d1 = MSDie()\n",
    "    #d2 = MSDie()\n",
    "    for n in range(1):\n",
    "         #print (d1.dieroll(), d2.dieroll)\n",
    "        print(d1.dieroll())\n",
    "        \n",
    "\n",
    "\n",
    "main()"
   ]
  },
  {
   "cell_type": "code",
   "execution_count": 8,
   "metadata": {},
   "outputs": [],
   "source": [
    "## return '{}'.format(rollnumber)"
   ]
  },
  {
   "cell_type": "code",
   "execution_count": null,
   "metadata": {},
   "outputs": [],
   "source": [
    "#print(dieValue)"
   ]
  },
  {
   "cell_type": "code",
   "execution_count": null,
   "metadata": {},
   "outputs": [],
   "source": [
    "#die_sides = [1, 2, 3, 4, 5, 6]"
   ]
  },
  {
   "cell_type": "code",
   "execution_count": null,
   "metadata": {},
   "outputs": [],
   "source": []
  }
 ],
 "metadata": {
  "kernelspec": {
   "display_name": "Python 3",
   "language": "python",
   "name": "python3"
  },
  "language_info": {
   "codemirror_mode": {
    "name": "ipython",
    "version": 3
   },
   "file_extension": ".py",
   "mimetype": "text/x-python",
   "name": "python",
   "nbconvert_exporter": "python",
   "pygments_lexer": "ipython3",
   "version": "3.6.5"
  }
 },
 "nbformat": 4,
 "nbformat_minor": 2
}
