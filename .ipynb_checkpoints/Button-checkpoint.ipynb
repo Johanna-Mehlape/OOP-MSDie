{
 "cells": [
  {
   "cell_type": "code",
   "execution_count": 17,
   "metadata": {},
   "outputs": [],
   "source": [
    "import tkinter\n",
    "from graphics import *\n",
    "\n",
    "class Button:\n",
    "    def __init__(self, win, center, width, height, label):\n",
    "        w,h = width/2.0, height/2.0\n",
    "        x,y = center.getX(), center.getY()\n",
    "        self.xmax, self.xmin = x+w, x-w\n",
    "        self.ymax, self.ymin = y+h, y-h\n",
    "        p1 = Point(self.xmin, self.xmin)\n",
    "        p2 = Point(self.xmax, self.ymax)\n",
    "        self.rect = Rectangle(p1,p2)\n",
    "        self.rect.setFill('lightgray')\n",
    "        self.rect.draw(win)\n",
    "        self.label = Text(center, label)\n",
    "        self.label.draw(win)\n",
    "        self.deactivate()\n",
    "        \n",
    "    def clicked(self, p):\n",
    "        return self.active\n",
    "        self.xmin <= p.getX() <= self.xmax\n",
    "        self.ymin <= p.getY() <= self.ymax\n",
    "            \n",
    "    def getLabel(self):\n",
    "        return self.label.getText()\n",
    "    \n",
    "    def activate(self):\n",
    "        self.label.setFill('black')\n",
    "        self.rect.setWidth(2)\n",
    "        self.active = True\n",
    "        \n",
    "    def deactivate(self):\n",
    "        self.label.setFill('darkgrey')\n",
    "        self.rect.setWidth(1)\n",
    "        self.active = False"
   ]
  },
  {
   "cell_type": "code",
   "execution_count": null,
   "metadata": {},
   "outputs": [],
   "source": []
  }
 ],
 "metadata": {
  "kernelspec": {
   "display_name": "Python 3",
   "language": "python",
   "name": "python3"
  },
  "language_info": {
   "codemirror_mode": {
    "name": "ipython",
    "version": 3
   },
   "file_extension": ".py",
   "mimetype": "text/x-python",
   "name": "python",
   "nbconvert_exporter": "python",
   "pygments_lexer": "ipython3",
   "version": "3.6.5"
  }
 },
 "nbformat": 4,
 "nbformat_minor": 2
}
