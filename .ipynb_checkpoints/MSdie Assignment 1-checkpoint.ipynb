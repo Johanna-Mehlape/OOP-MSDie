{
 "cells": [
  {
   "cell_type": "markdown",
   "metadata": {},
   "source": [
    "# MSDie Assignment 1\n",
    "#### Rolling multi-sided dice"
   ]
  },
  {
   "cell_type": "code",
   "execution_count": 10,
   "metadata": {},
   "outputs": [],
   "source": [
    "import random"
   ]
  },
  {
   "cell_type": "code",
   "execution_count": 7,
   "metadata": {},
   "outputs": [],
   "source": [
    "class MSDie(object):\n",
    "    \n",
    "    def __init__(self, roll):\n",
    "        self.roll = \n",
    "    "
   ]
  },
  {
   "cell_type": "code",
   "execution_count": 8,
   "metadata": {},
   "outputs": [],
   "source": [
    "def getValue():\n",
    "    return '{}'.format(rollnumber)"
   ]
  },
  {
   "cell_type": "code",
   "execution_count": null,
   "metadata": {},
   "outputs": [],
   "source": [
    "print(dieValue)"
   ]
  },
  {
   "cell_type": "code",
   "execution_count": null,
   "metadata": {},
   "outputs": [],
   "source": [
    "die_sides = [1, 2, 3, 4, 5, 6]"
   ]
  },
  {
   "cell_type": "code",
   "execution_count": null,
   "metadata": {},
   "outputs": [
    {
     "name": "stdout",
     "output_type": "stream",
     "text": [
      "Would you like to roll the dice?yes\n",
      "Your number is: 3\n"
     ]
    }
   ],
   "source": [
    "def dice_roll():\n",
    "    while True:\n",
    "        print(\"Your number is: \" + str(random.randint(1,6)))\n",
    "        play_again = input(\"Would you like to play again? \")\n",
    "        while play_again != 'yes':\n",
    "            if play_again == 'no':\n",
    "                return print(\"Game Over\")\n",
    "            else:\n",
    "                print(\"Input not recognized\")\n",
    "                play_again = input(\"Would you like to play again? \")\n",
    "\n",
    "def main():\n",
    "    game_start = input(\"Would you like to roll the dice?\")\n",
    "    if game_start == 'yes':\n",
    "        dice_roll()\n",
    "    else:\n",
    "        print('too bad')\n",
    "\n",
    "if __name__ == '__main__':\n",
    "    main()"
   ]
  },
  {
   "cell_type": "code",
   "execution_count": null,
   "metadata": {},
   "outputs": [],
   "source": []
  }
 ],
 "metadata": {
  "kernelspec": {
   "display_name": "Python 3",
   "language": "python",
   "name": "python3"
  },
  "language_info": {
   "codemirror_mode": {
    "name": "ipython",
    "version": 3
   },
   "file_extension": ".py",
   "mimetype": "text/x-python",
   "name": "python",
   "nbconvert_exporter": "python",
   "pygments_lexer": "ipython3",
   "version": "3.6.5"
  }
 },
 "nbformat": 4,
 "nbformat_minor": 2
}
